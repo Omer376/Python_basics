{
  "nbformat": 4,
  "nbformat_minor": 0,
  "metadata": {
    "colab": {
      "provenance": []
    },
    "kernelspec": {
      "name": "python3",
      "display_name": "Python 3"
    },
    "language_info": {
      "name": "python"
    }
  },
  "cells": [
    {
      "cell_type": "code",
      "execution_count": null,
      "metadata": {
        "colab": {
          "base_uri": "https://localhost:8080/",
          "height": 35
        },
        "id": "PyMIm6LY2-tK",
        "outputId": "a81a30c3-f2af-48ea-a42e-9b4a04ccbc07"
      },
      "outputs": [
        {
          "output_type": "execute_result",
          "data": {
            "text/plain": [
              "'\\nASsignment Python Basics : Answer Sheet\\n'"
            ],
            "application/vnd.google.colaboratory.intrinsic+json": {
              "type": "string"
            }
          },
          "metadata": {},
          "execution_count": 1
        }
      ],
      "source": [
        "\"\"\"\n",
        "Assignment Python Basics : Answer Sheet\n",
        "\"\"\""
      ]
    },
    {
      "cell_type": "markdown",
      "source": [
        "#Python basic\n",
        "##Q1)\n",
        "Python ia programming language discovered by Guido Van Rossum during 1990's . Python is widely used in the industry . It is very easy to learn and understand . It diffrentiates itself from other programming languages due to its vast amount of libraries present. Such as Numpy, Panda dor Data analytics etc.\n",
        "\n",
        "\n",
        "##Q2)\n",
        " An interpreter in python is a computer program which converts high level programming language into machine code for the computer to understand.\n",
        " Unlike C,C++ there is no need of compilation, as the interpreter directly executes the python code rather than compliling it.\n",
        "\n",
        "##Q3)\n",
        " Keywords are reserved words in python having a special evening. It cannot be used as identifiers . Examples can be : if-else,in,not in etc. Keywords are case sensitive and cannot be redefined.\n",
        "\n",
        "##Q4)\n",
        "\n",
        "No, keywords are reserved words in python having a special meaning .They are case sensitive and cannot be used as identifiers like variables etc.\n",
        "Even if overriding of keyword is done by variable , innaccuracy will occurr in output of code.\n",
        "\n",
        "##Q5)\n",
        "Mutability can be defined as the power to **change** an object after its creation. Such data types are list,dictionaries etc and are called as mutable data types .\n",
        "\n",
        "##Q6)\n",
        "List are mutable as changes can be made after its creation .On the other hand tuples are immutable as no change/edit can occur after its creation.\n",
        "\n",
        "##Q7)\n",
        "\"==\" is a comparison operator used in python to check if values are equal or not. While, \"is\" an identity operator which is used to compare memory location of 2 values. eg:-a is b output:-False\n",
        "\n",
        "##Q8)\n",
        "Logical operators in python are used to perform logical operations on boolean values which are either True Or False.These operations are namely *AND*,*OR* and *NOT*.\n",
        "\n",
        "##Q9)\n",
        "Typecasting is process of converting a datatype to another datatype based on requiremnet. We can datatype of identifier using **type()**, and in order to conver it into a speceifc datatype just add datatype at start to specify. Eg:-int(a),str(o) etc\n",
        "\n",
        "##Q10)\n",
        "implicit typecasting is where python automatically understands the datatype. FOr eg:- 2+3.5=\"5.5\" . While, explicit typecasting is the processs of typecasting using inbuilt functions such as str(),float(),int()etc.\n",
        "\n",
        "##Q11)\n",
        "Condtional statements are used when there are one or more conditions present in python. This helps in decision making process in python.There diffrent conditional statements based on the amount of conditions present.\n",
        "Eg:- if,if-else and if-elif/elseif-else\n",
        "\n",
        "##Q12)\n",
        "Elif statemets works when there are multiple condtions present. It works in such a way if-elif-else statement ,if in \"if\" statement condtion is true,then the block od code in if will run and rest will be ignored.Similarly in case of eil ,if its true than it will run otherwise no and vice versa.Its syntax requires indentation and is:-\n",
        "**If:**\n",
        "  *block of code*\n",
        "**elif:**\n",
        "  *block of code*\n",
        "**else:**\n",
        "  *block of code*\n",
        "\n",
        "##Q13)\n",
        "Both for and while are *loop* statements.“for” loops are used for iterating over a sequence of elements, while “while” loops are used for executing code until a specified condition becomes False.\n",
        "\n",
        "##Q14)\n",
        "\n",
        "A **while** loop is more suitable than a **for** loop when the number of iterations is not known in advance and depends on a condition being true or false during execution.\n",
        "\n",
        "\n",
        "\n",
        "\n",
        "\n",
        "\n",
        "\n",
        "\n",
        "\n",
        "\n",
        "\n",
        "\n"
      ],
      "metadata": {
        "id": "fucrl0gm3XG5"
      }
    },
    {
      "cell_type": "markdown",
      "source": [],
      "metadata": {
        "id": "oiNx2-jv3xsa"
      }
    },
    {
      "cell_type": "code",
      "source": [
        "\"\"\"\n",
        "PRACTICAL QUESTIONS\n",
        "\"\"\"\n"
      ],
      "metadata": {
        "id": "H3F_a1WU3Wb5"
      },
      "execution_count": null,
      "outputs": []
    },
    {
      "cell_type": "code",
      "source": [
        "#Q1)\n",
        "print(\"Hello, World!\")"
      ],
      "metadata": {
        "colab": {
          "base_uri": "https://localhost:8080/"
        },
        "id": "H_Fhbc2h4XBL",
        "outputId": "c78b0013-78e4-41de-f97d-bebac9018e76"
      },
      "execution_count": 1,
      "outputs": [
        {
          "output_type": "stream",
          "name": "stdout",
          "text": [
            "Hello, World!\n"
          ]
        }
      ]
    },
    {
      "cell_type": "code",
      "source": [
        "#2)\n",
        "name=input(\"Enter your name:\")\n",
        "age=int(input(\"Enter your age:\"))\n",
        "print(\"Hello,\",name,\"! You are\",age,\"years old.\")"
      ],
      "metadata": {
        "colab": {
          "base_uri": "https://localhost:8080/"
        },
        "id": "rX5OgFqV4nsm",
        "outputId": "51e2ca1e-a4fa-4ad1-9966-ae42dce0c83c"
      },
      "execution_count": 2,
      "outputs": [
        {
          "output_type": "stream",
          "name": "stdout",
          "text": [
            "Enter your name:omer\n",
            "Enter your age:21\n",
            "Hello, omer ! You are 21 years old.\n"
          ]
        }
      ]
    },
    {
      "cell_type": "code",
      "source": [
        "#Q3)help()\n",
        "help('keywords')"
      ],
      "metadata": {
        "colab": {
          "base_uri": "https://localhost:8080/"
        },
        "id": "xpnOMIvZ46DQ",
        "outputId": "33c704fb-544c-4869-fe82-e026742315ef"
      },
      "execution_count": 5,
      "outputs": [
        {
          "output_type": "stream",
          "name": "stdout",
          "text": [
            "\n",
            "Here is a list of the Python keywords.  Enter any keyword to get more help.\n",
            "\n",
            "False               class               from                or\n",
            "None                continue            global              pass\n",
            "True                def                 if                  raise\n",
            "and                 del                 import              return\n",
            "as                  elif                in                  try\n",
            "assert              else                is                  while\n",
            "async               except              lambda              with\n",
            "await               finally             nonlocal            yield\n",
            "break               for                 not                 \n",
            "\n"
          ]
        }
      ]
    },
    {
      "cell_type": "code",
      "source": [
        "#Q4)\n",
        "import keyword#import library keyword\n",
        "word=input(\"Enter a word:\")\n",
        "if word in keyword.kwlist:#keyword.kwlist is a list containing of all keywords in python,and it is autoimported\n",
        "  print(word,\"is a keyword\")\n",
        "else:\n",
        "  print(word,\"is not a keyword\")"
      ],
      "metadata": {
        "colab": {
          "base_uri": "https://localhost:8080/"
        },
        "id": "IOb69Jkk566j",
        "outputId": "351ce5c7-2cdc-433f-9d86-c784210cba3d"
      },
      "execution_count": 6,
      "outputs": [
        {
          "output_type": "stream",
          "name": "stdout",
          "text": [
            "Enter a word:if\n",
            "if is a keyword\n"
          ]
        }
      ]
    },
    {
      "cell_type": "code",
      "source": [
        "#Q5)\n",
        "my_list=[1,\"omer\",21,34.56]\n",
        "print(\"Before change:\",my_list)\n",
        "my_list[1]=2#changing first element of list\n",
        "print(\"After change:\",my_list)\n",
        "my_tuple=(1,\"omer\",21,34.56)\n",
        "print(\"Before change:\",my_tuple)\n",
        "my_tuple[1]=2#try to change first element of tuple\n",
        "print(\"After change:\",my_tuple)#error will arise as tuple is immutable,while list is mutable data type"
      ],
      "metadata": {
        "colab": {
          "base_uri": "https://localhost:8080/",
          "height": 245
        },
        "id": "BWt8VVbK7H4k",
        "outputId": "ce95bdf8-95e1-49c6-9ae3-98ad1101cd23"
      },
      "execution_count": 7,
      "outputs": [
        {
          "output_type": "stream",
          "name": "stdout",
          "text": [
            "Before change: [1, 'omer', 21, 34.56]\n",
            "After change: [1, 2, 21, 34.56]\n",
            "Before change: (1, 'omer', 21, 34.56)\n"
          ]
        },
        {
          "output_type": "error",
          "ename": "TypeError",
          "evalue": "'tuple' object does not support item assignment",
          "traceback": [
            "\u001b[0;31m---------------------------------------------------------------------------\u001b[0m",
            "\u001b[0;31mTypeError\u001b[0m                                 Traceback (most recent call last)",
            "\u001b[0;32m<ipython-input-7-a34d362698bc>\u001b[0m in \u001b[0;36m<cell line: 8>\u001b[0;34m()\u001b[0m\n\u001b[1;32m      6\u001b[0m \u001b[0mmy_tuple\u001b[0m\u001b[0;34m=\u001b[0m\u001b[0;34m(\u001b[0m\u001b[0;36m1\u001b[0m\u001b[0;34m,\u001b[0m\u001b[0;34m\"omer\"\u001b[0m\u001b[0;34m,\u001b[0m\u001b[0;36m21\u001b[0m\u001b[0;34m,\u001b[0m\u001b[0;36m34.56\u001b[0m\u001b[0;34m)\u001b[0m\u001b[0;34m\u001b[0m\u001b[0;34m\u001b[0m\u001b[0m\n\u001b[1;32m      7\u001b[0m \u001b[0mprint\u001b[0m\u001b[0;34m(\u001b[0m\u001b[0;34m\"Before change:\"\u001b[0m\u001b[0;34m,\u001b[0m\u001b[0mmy_tuple\u001b[0m\u001b[0;34m)\u001b[0m\u001b[0;34m\u001b[0m\u001b[0;34m\u001b[0m\u001b[0m\n\u001b[0;32m----> 8\u001b[0;31m \u001b[0mmy_tuple\u001b[0m\u001b[0;34m[\u001b[0m\u001b[0;36m1\u001b[0m\u001b[0;34m]\u001b[0m\u001b[0;34m=\u001b[0m\u001b[0;36m2\u001b[0m\u001b[0;31m#try to change first element of tuple\u001b[0m\u001b[0;34m\u001b[0m\u001b[0;34m\u001b[0m\u001b[0m\n\u001b[0m\u001b[1;32m      9\u001b[0m \u001b[0mprint\u001b[0m\u001b[0;34m(\u001b[0m\u001b[0;34m\"After change:\"\u001b[0m\u001b[0;34m,\u001b[0m\u001b[0mmy_tuple\u001b[0m\u001b[0;34m)\u001b[0m\u001b[0;34m\u001b[0m\u001b[0;34m\u001b[0m\u001b[0m\n",
            "\u001b[0;31mTypeError\u001b[0m: 'tuple' object does not support item assignment"
          ]
        }
      ]
    },
    {
      "cell_type": "code",
      "source": [
        "#Q6)\n",
        "def demonstrate_mutable_and_immutable(mutable, immutable):\n",
        "    # Modify the mutable argument (list)\n",
        "    mutable.append(42)\n",
        "    print(\"Inside function, mutable(after modification):\", mutable)\n",
        "\n",
        "    # Attempt to modify the immutable argument (integer)\n",
        "    immutable += 10\n",
        "    print(\"Inside function, immutable (after modification):\", immutable)\n",
        "\n",
        "# Define a mutable (list) and immutable (integer) argument\n",
        "my_list = [1, 2, 3]  # Mutable\n",
        "my_number = 5        # Immutable\n",
        "\n",
        "# Print initial values\n",
        "print(\"Before function call, mutable_arg:\", my_list)\n",
        "print(\"Before function call, immutable_arg:\", my_number)\n",
        "\n",
        "# Call the function\n",
        "demonstrate_mutable_and_immutable(my_list, my_number)\n",
        "\n",
        "# Print values after function call\n",
        "print(\"After function call, mutable_arg:\", my_list)\n",
        "print(\"After function call, immutable_arg:\", my_number)\n"
      ],
      "metadata": {
        "colab": {
          "base_uri": "https://localhost:8080/"
        },
        "id": "xTGv2FKU779a",
        "outputId": "3da4650a-d778-4788-e982-492b678e5037"
      },
      "execution_count": 8,
      "outputs": [
        {
          "output_type": "stream",
          "name": "stdout",
          "text": [
            "Before function call, mutable_arg: [1, 2, 3]\n",
            "Before function call, immutable_arg: 5\n",
            "Inside function, mutable(after modification): [1, 2, 3, 42]\n",
            "Inside function, immutable (after modification): 15\n",
            "After function call, mutable_arg: [1, 2, 3, 42]\n",
            "After function call, immutable_arg: 5\n"
          ]
        }
      ]
    },
    {
      "cell_type": "code",
      "source": [
        "#Q7)is same as Q6"
      ],
      "metadata": {
        "id": "5rYSPJFu8dDB"
      },
      "execution_count": null,
      "outputs": []
    },
    {
      "cell_type": "code",
      "source": [
        "#Q8)\n",
        "#logical operators are and,or and not\n",
        "is_vip=True\n",
        "age=int(input(\"Enter your age:\"))\n",
        "if is_vip==True:\n",
        "  if age>=18 and is_vip==True:\n",
        "    print(\"You are eligible for vip\")\n",
        "  elif age>65 or is_vip==True:\n",
        "    print(\"You are eligible for vip\")\n",
        "  elif not is_vip==True:\n",
        "    print(\"You are not eligible\")\n",
        "  else:\n",
        "    print(\"You are not eligible\")\n",
        "elif is_vip==False:\n",
        "  print(\"You are not eligible\")\n",
        "else:\n",
        "  print(\"You are not eligible\")"
      ],
      "metadata": {
        "colab": {
          "base_uri": "https://localhost:8080/"
        },
        "id": "kuO0etVY8l5Y",
        "outputId": "0ee8b821-0182-4373-dc15-9ed484e5e93e"
      },
      "execution_count": 13,
      "outputs": [
        {
          "output_type": "stream",
          "name": "stdout",
          "text": [
            "Enter your age:21\n",
            "You are eligible for vip\n"
          ]
        }
      ]
    },
    {
      "cell_type": "code",
      "source": [
        "#Q9)\n",
        "number=input(\"Enter a number:\")#by default data_type is a string\n",
        "type(number)\n",
        "a=type(int(number))\n",
        "print(a)\n",
        "b=type(float(number))\n",
        "print(b)\n",
        "c=type(bool(number))\n",
        "print(c)"
      ],
      "metadata": {
        "colab": {
          "base_uri": "https://localhost:8080/"
        },
        "id": "OHPbak-k-b4U",
        "outputId": "86c8c550-e345-4a7d-d7e7-b237e2949d13"
      },
      "execution_count": 16,
      "outputs": [
        {
          "output_type": "stream",
          "name": "stdout",
          "text": [
            "Enter a number:3\n",
            "<class 'int'>\n",
            "<class 'float'>\n",
            "<class 'bool'>\n"
          ]
        }
      ]
    },
    {
      "cell_type": "code",
      "source": [
        "#Q10)\n",
        "my_list=[12,\"omer\",56.9,True,12.3]#list\n",
        "print(type(my_list[4]))\n",
        "my_list[4]=int(my_list[4])#typecasting\n",
        "print(type(my_list[4]))"
      ],
      "metadata": {
        "colab": {
          "base_uri": "https://localhost:8080/"
        },
        "id": "cjxLl_sx_SRe",
        "outputId": "3390eafe-4ec8-43e9-94f6-c24b831a251e"
      },
      "execution_count": 21,
      "outputs": [
        {
          "output_type": "stream",
          "name": "stdout",
          "text": [
            "<class 'float'>\n",
            "<class 'int'>\n"
          ]
        }
      ]
    },
    {
      "cell_type": "code",
      "source": [
        "#Q11)\n",
        "number=int(input(\"Enter a number:\"))\n",
        "if number>0:\n",
        "  print(\"Number is positive\")\n",
        "elif number<0:\n",
        "  print(\"Number is negative\")\n",
        "else:\n",
        "  print(\"Number is zero\")"
      ],
      "metadata": {
        "colab": {
          "base_uri": "https://localhost:8080/"
        },
        "id": "WTLhpsYF__P4",
        "outputId": "45230ebc-4743-4310-f0c2-7d6c38c9cbf9"
      },
      "execution_count": 22,
      "outputs": [
        {
          "output_type": "stream",
          "name": "stdout",
          "text": [
            "Enter a number:3\n",
            "Number is positive\n"
          ]
        }
      ]
    },
    {
      "cell_type": "code",
      "source": [
        "#Q12)\n",
        "i=1\n",
        "for i in range(1,11):\n",
        "  print(i)"
      ],
      "metadata": {
        "colab": {
          "base_uri": "https://localhost:8080/"
        },
        "id": "coE6u9LRAIgY",
        "outputId": "09b7408b-d1e2-4836-b8a5-fdf87f9d19c7"
      },
      "execution_count": 26,
      "outputs": [
        {
          "output_type": "stream",
          "name": "stdout",
          "text": [
            "1\n",
            "2\n",
            "3\n",
            "4\n",
            "5\n",
            "6\n",
            "7\n",
            "8\n",
            "9\n",
            "10\n"
          ]
        }
      ]
    },
    {
      "cell_type": "code",
      "source": [
        "#Q13)\n",
        "i=0\n",
        "sum=0\n",
        "for i in range(0,51,2):\n",
        "  sum=sum+i\n",
        "print(sum)\n"
      ],
      "metadata": {
        "colab": {
          "base_uri": "https://localhost:8080/"
        },
        "id": "cldaoUqXAmnk",
        "outputId": "3c61112f-30df-4a06-c49f-ffa5a5c0cf5d"
      },
      "execution_count": 27,
      "outputs": [
        {
          "output_type": "stream",
          "name": "stdout",
          "text": [
            "650\n"
          ]
        }
      ]
    },
    {
      "cell_type": "code",
      "source": [
        "#Q14)\n",
        "user_input = input(\"Enter a string: \")\n",
        "reversed_string = \"\"\n",
        "index = len(user_input) - 1  # Start from the last character\n",
        "while index >= 0:\n",
        "    reversed_string += user_input[index]\n",
        "    index -= 1\n",
        "print(\"Reversed string:\", reversed_string)\n"
      ],
      "metadata": {
        "colab": {
          "base_uri": "https://localhost:8080/"
        },
        "id": "ayvXdYyCBBpO",
        "outputId": "fd2f2e09-effc-4d8f-8d96-1e217983c982"
      },
      "execution_count": 28,
      "outputs": [
        {
          "output_type": "stream",
          "name": "stdout",
          "text": [
            "Enter a string: omer\n",
            "Reversed string: remo\n"
          ]
        }
      ]
    },
    {
      "cell_type": "code",
      "source": [
        "#Q15)\n",
        "num = int(input(\"Enter a number: \"))\n",
        "factorial = 1\n",
        "i = 1\n",
        "while i <= num:\n",
        "    factorial *= i  # Multiply factorial by i\n",
        "    i += 1  # Increment i\n",
        "print(\"The factorial of\",num,\"is:\",factorial)\n"
      ],
      "metadata": {
        "colab": {
          "base_uri": "https://localhost:8080/"
        },
        "id": "0y4VvwPxBb1T",
        "outputId": "53fac087-6f52-4bbd-c686-09b50274a58d"
      },
      "execution_count": 32,
      "outputs": [
        {
          "output_type": "stream",
          "name": "stdout",
          "text": [
            "Enter a number: 5\n",
            "The factorial of 5 is: 120\n"
          ]
        }
      ]
    }
  ]
}